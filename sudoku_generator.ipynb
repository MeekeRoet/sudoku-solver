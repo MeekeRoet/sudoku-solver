{
 "cells": [
  {
   "cell_type": "code",
   "execution_count": 1,
   "metadata": {},
   "outputs": [],
   "source": [
    "import numpy as np\n",
    "import itertools\n",
    "import matplotlib.pyplot as plt\n",
    "from matplotlib.font_manager import FontManager\n",
    "from matplotlib.pyplot import imshow\n",
    "from PIL import Image, ImageDraw, ImageFont\n",
    "\n",
    "%matplotlib inline"
   ]
  },
  {
   "cell_type": "code",
   "execution_count": 2,
   "metadata": {},
   "outputs": [],
   "source": [
    "class SudokuGenerator():\n",
    "    def __init__(self, font, border=0.05):\n",
    "        self.font = font\n",
    "        self.border = border\n",
    "\n",
    "    def generate(self, dim, number_density):\n",
    "        img = np.array(np.ones((dim[0], dim[1], 3))*255).astype(int)\n",
    "        img = Image.fromarray(np.uint8(img))\n",
    "\n",
    "        self.outline, self.corners = self._get_outline(dim)\n",
    "        self.squares = self._get_square_coordinates(\n",
    "            self.corners['t'], self.corners['l'], self.corners['r'], self.corners['b'])\n",
    "\n",
    "        img = self._draw_outline(img, self.outline)\n",
    "        img = self._draw_squares(img, self.squares, number_density)\n",
    "\n",
    "        return img\n",
    "\n",
    "    def _get_outline(self, dim):\n",
    "        top = int(self.border*dim[1])\n",
    "        left = int(self.border*dim[0])\n",
    "        right = dim[0] - left\n",
    "        bottom = dim[1] - top\n",
    "\n",
    "        corners = {'t': top, 'l': left, 'r': right, 'b': bottom}\n",
    "\n",
    "        outline = ((left, top), (left, bottom),\n",
    "                   (right, bottom), (right, top))\n",
    "\n",
    "        return outline, corners\n",
    "\n",
    "    def _get_square_coordinates(self, t, l, r, b):\n",
    "        self.total_width = r - l\n",
    "        self.total_height = b - t\n",
    "\n",
    "        self.sq_width = self.total_width / 9\n",
    "        self.sq_height = self.total_height / 9\n",
    "\n",
    "        squares = []\n",
    "\n",
    "        for i, j in itertools.product(range(9), range(9)):\n",
    "            sq_left = int(l + i*self.sq_width)\n",
    "            sq_top = int(t + j*self.sq_height)\n",
    "            sq_right = int(l + (i+1)*self.sq_width)\n",
    "            sq_bottom = int(t + (j+1)*self.sq_height)\n",
    "\n",
    "            sq = ((sq_left, sq_top), (sq_left, sq_bottom),\n",
    "                  (sq_right, sq_bottom), (sq_right, sq_top))\n",
    "            squares.append(sq)\n",
    "\n",
    "        return squares\n",
    "\n",
    "    def _draw_outline(self, img, outline):\n",
    "        draw = ImageDraw.Draw(img)\n",
    "        draw.polygon(outline, outline='black')\n",
    "        return img\n",
    "\n",
    "    def _draw_squares(self, img, squares, number_density):   \n",
    "        draw = ImageDraw.Draw(img)\n",
    "        \n",
    "        for sq in squares:\n",
    "            draw.polygon(sq, outline='black')\n",
    "\n",
    "            if np.random.uniform() < number_density:\n",
    "                number = np.random.randint(1, 10)\n",
    "                sq_left = sq[0][0]\n",
    "                sq_top = sq[0][1]\n",
    "\n",
    "                draw.text((sq_left + 15, sq_top + 5),\n",
    "                          str(number), fill='black', font=self.font)\n",
    "\n",
    "        return img"
   ]
  },
  {
   "cell_type": "code",
   "execution_count": 3,
   "metadata": {},
   "outputs": [],
   "source": [
    "font_finder = FontManager()\n",
    "font_path = font_finder.findfont('arial')\n",
    "font = ImageFont.truetype(font_path, 35)"
   ]
  },
  {
   "cell_type": "code",
   "execution_count": 4,
   "metadata": {},
   "outputs": [],
   "source": [
    "gen = SudokuGenerator(font=font, border=0.05)\n",
    "\n",
    "for img_num in range(100):\n",
    "    img = gen.generate((500, 500), np.random.uniform(0.05, 0.20))\n",
    "    img.save(f'generated_sudokus/{img_num}.jpg')"
   ]
  },
  {
   "cell_type": "code",
   "execution_count": 5,
   "metadata": {
    "scrolled": false
   },
   "outputs": [
    {
     "data": {
      "image/png": "[encoded data removed]",
      "text/plain": [
       "<Figure size 720x720 with 1 Axes>"
      ]
     },
     "metadata": {
      "needs_background": "light"
     },
     "output_type": "display_data"
    }
   ],
   "source": [
    "plt.figure(figsize=(10,10))\n",
    "imshow(np.asarray(img))\n",
    "plt.show()"
   ]
  }
 ],
 "metadata": {
  "kernelspec": {
   "display_name": "Python 3",
   "language": "python",
   "name": "python3"
  },
  "language_info": {
   "codemirror_mode": {
    "name": "ipython",
    "version": 3
   },
   "file_extension": ".py",
   "mimetype": "text/x-python",
   "name": "python",
   "nbconvert_exporter": "python",
   "pygments_lexer": "ipython3",
   "version": "3.6.8"
  },
  "toc": {
   "base_numbering": 1,
   "nav_menu": {},
   "number_sections": true,
   "sideBar": true,
   "skip_h1_title": false,
   "title_cell": "Table of Contents",
   "title_sidebar": "Contents",
   "toc_cell": false,
   "toc_position": {},
   "toc_section_display": true,
   "toc_window_display": false
  }
 },
 "nbformat": 4,
 "nbformat_minor": 2
}
